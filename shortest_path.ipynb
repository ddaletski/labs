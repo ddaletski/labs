{
 "cells": [
  {
   "cell_type": "code",
   "execution_count": 1,
   "metadata": {},
   "outputs": [
    {
     "name": "stdout",
     "output_type": "stream",
     "text": [
      "Populating the interactive namespace from numpy and matplotlib\n"
     ]
    }
   ],
   "source": [
    "%pylab inline --no-import-all\n",
    "import cv2\n",
    "import sys\n",
    "import os\n",
    "import skimage\n",
    "import skimage.transform\n",
    "import skimage.exposure"
   ]
  },
  {
   "cell_type": "code",
   "execution_count": 131,
   "metadata": {},
   "outputs": [],
   "source": [
    "num_columns = 5\n",
    "preview_plates = 50\n",
    "\n",
    "plates_paths = list(map(lambda p: os.path.join(\"data/plates/cropped\", p), os.listdir(\"data/plates/cropped/\")))\n",
    "np.random.shuffle(plates_paths)\n",
    "\n",
    "num_rows = preview_plates // num_columns\n",
    "plates = (plt.imread(path) for path in plates_paths[:preview_plates])\n",
    "fig, axes = plt.subplots(num_rows, num_columns, figsize=(16, num_rows//2))\n",
    "for y in range(num_rows):\n",
    "    for x in range(num_columns):\n",
    "        axes[y][x].axis(\"off\")\n",
    "        axes[y][x].imshow(plates.__next__())"
   ]
  },
  {
   "cell_type": "code",
   "execution_count": 3,
   "metadata": {},
   "outputs": [
    {
     "data": {
      "image/png": "[encoded data removed]",
      "text/plain": [
       "<matplotlib.figure.Figure at 0x7f49a7628908>"
      ]
     },
     "metadata": {},
     "output_type": "display_data"
    }
   ],
   "source": [
    "def hor_intencity(image):\n",
    "    height, width = image.shape\n",
    "    intencities = [sum(image[row_idx, :]) for row_idx in range(height)]\n",
    "    return np.array(intencities)\n",
    "\n",
    "def ver_intencity(image):\n",
    "    height, width = image.shape\n",
    "    intencities = [sum(image[:, col_idx]) for col_idx in range(width)]\n",
    "    return np.array(intencities)\n",
    "\n",
    "def plot_img_with_projections(img):\n",
    "    from mpl_toolkits.axes_grid1 import make_axes_locatable\n",
    "\n",
    "    height, width = img.shape\n",
    "\n",
    "    fig, ax = plt.subplots(1, 1, figsize=(10, 6))\n",
    "    img_ax = ax.imshow(img, cmap='gray', extent=(0, width, 0, height))\n",
    "\n",
    "    divider = make_axes_locatable(ax)\n",
    "    \n",
    "    hist_height = min((30 / height, 0.75))\n",
    "    hist_width = min((30 / width, 0.75))\n",
    "\n",
    "    ver_ax = divider.append_axes(\"right\", size=hist_width, pad=0.05)\n",
    "    ver_ax.axis(\"off\")\n",
    "    ver_ax.set_ylim(0, height)\n",
    "    ver_ax.barh(range(height), hor_intencity(img)[::-1], align='edge')\n",
    "\n",
    "    hor_ax = divider.append_axes(\"top\", size = hist_height, pad=0.05)\n",
    "    hor_ax.axis(\"off\")\n",
    "    hor_ax.bar(range(width), ver_intencity(img), align='edge')\n",
    "    hor_ax.set_xlim(0, width)\n",
    "    \n",
    "    \n",
    "plate = cv2.imread(plates_paths[0])\n",
    "plate = (skimage.exposure.equalize_hist(cv2.cvtColor(plate, cv2.COLOR_BGR2GRAY)) * 255).astype('uint8')\n",
    "plot_img_with_projections(plate)"
   ]
  },
  {
   "cell_type": "code",
   "execution_count": 249,
   "metadata": {},
   "outputs": [],
   "source": [
    "from queue import Queue\n",
    "import matplotlib.animation as animation\n",
    "import heapq\n",
    "%matplotlib qt5\n",
    "\n",
    "def shortest_path_to_bottom(img, start_x, min_x, max_x, animate=False, interval=20):\n",
    "    if animate:\n",
    "        fig = plt.figure()\n",
    "        dbg_image = cv2.cvtColor(img, cv2.COLOR_GRAY2RGB)\n",
    "        image_obj = plt.imshow(dbg_image, animated=True)\n",
    "        \n",
    "        def run_anim(data):\n",
    "            image_obj.set_array(data)\n",
    "            return (image_obj, )\n",
    "\n",
    "    distances = np.full_like(img, np.infty, dtype=float)\n",
    "\n",
    "    height, width = img.shape\n",
    "    max_y = height - 1\n",
    "\n",
    "    visited = set()\n",
    "    candidates = {0: (0, start_x)} # key is distance, value is point\n",
    "    distances[0, start_x] = 0\n",
    "    backTrack = {}      # {point => previousPoint} to track path\n",
    "    \n",
    "    def restore_path_back(pfrom, pto):\n",
    "        track = [pfrom]\n",
    "        current = pfrom\n",
    "        while(current != pto):\n",
    "            current = backTrack[current]\n",
    "            track.append(current)\n",
    "        return track\n",
    "    \n",
    "    def new_candidate(candidates):\n",
    "        min_distance = min(candidates)\n",
    "        return candidates.pop(min_distance)        \n",
    "\n",
    "    def data_gen(candidates):\n",
    "        sym_cross_coeff = 1.0 / 255\n",
    "        while len(candidates):\n",
    "            current = new_candidate(candidates)\n",
    "            y, x = current\n",
    "            \n",
    "            if y == max_y: # reached bottom\n",
    "                shortest_path = restore_path_back(current, (0, start_x))\n",
    "                if animate:\n",
    "                    for i in range(1000 // interval):\n",
    "                        dbg_image[current] = np.array((0, (i % 2)*255, 0), dtype=dbg_image.dtype)\n",
    "                        yield dbg_image\n",
    "                    for i in range(1000 // interval):\n",
    "                        for point in shortest_path[1:-1]:\n",
    "                            dbg_image[point] = np.array((0, (i % 2)*255, (i % 2)*255), dtype=dbg_image.dtype)\n",
    "                        yield dbg_image\n",
    "                else:\n",
    "                    yield shortest_path\n",
    "                break\n",
    "                \n",
    "            if current in visited:\n",
    "                continue    \n",
    "            visited.add(current)\n",
    "\n",
    "            left = (y, x-1)\n",
    "            right = (y, x+1)\n",
    "            down = (y+1, x)\n",
    "            for neighbour in (left, right, down):\n",
    "                y, x = neighbour\n",
    "                neighbour_value = img[neighbour]\n",
    "                if x < min_x or x > max_x or y < 0 or y > max_y or neighbour in visited:\n",
    "                    continue\n",
    "\n",
    "                if neighbour is left or neighbour is right:\n",
    "                    horizontal_multiplier = 1.05\n",
    "                else:\n",
    "                    horizontal_multiplier = 1\n",
    "                                        \n",
    "                step_cost = abs(int(img[current]) - int(neighbour_value))\n",
    "                symbol_cross_cost = sym_cross_coeff * (255 - neighbour_value) * (255 - neighbour_value)\n",
    "\n",
    "                newDistance = horizontal_multiplier * (distances[current] + step_cost + symbol_cross_cost)\n",
    "                if newDistance < distances[neighbour]:   \n",
    "                    distances[neighbour] = newDistance\n",
    "                    backTrack[neighbour] = current\n",
    "                    candidates[newDistance] = neighbour\n",
    "                                    \n",
    "                if animate:\n",
    "                    dbg_image[neighbour] = img[neighbour]\n",
    "                    dbg_image[neighbour][2] = 255\n",
    "\n",
    "            \n",
    "            if animate:\n",
    "                if current == (0, start_x):\n",
    "                    dbg_image[0, start_x] = np.array((0, 255, 0), dtype=dbg_image.dtype)\n",
    "                else:\n",
    "                    dbg_image[current] = img[current]\n",
    "                    dbg_image[current][0] = 255\n",
    "                yield dbg_image\n",
    "            else:\n",
    "                yield None\n",
    "            \n",
    "\n",
    "    if animate:\n",
    "        return animation.FuncAnimation(fig, run_anim, data_gen(candidates), interval=interval, blit=True)\n",
    "    else:\n",
    "        shortest_path = [x for x in data_gen(candidates) if x is not None][0]\n",
    "        return shortest_path"
   ]
  },
  {
   "cell_type": "code",
   "execution_count": 250,
   "metadata": {},
   "outputs": [
    {
     "name": "stdout",
     "output_type": "stream",
     "text": [
      "         27581 function calls in 0.045 seconds\n",
      "\n",
      "   Ordered by: internal time\n",
      "\n",
      "   ncalls  tottime  percall  cumtime  percall filename:lineno(function)\n",
      "     3188    0.033    0.000    0.044    0.000 <ipython-input-249-bcd7f75f31eb>:38(data_gen)\n",
      "     3724    0.004    0.000    0.004    0.000 {built-in method builtins.min}\n",
      "     3710    0.003    0.000    0.008    0.000 <ipython-input-249-bcd7f75f31eb>:34(new_candidate)\n",
      "     5832    0.001    0.000    0.001    0.000 {built-in method builtins.abs}\n",
      "       14    0.001    0.000    0.045    0.003 <ipython-input-249-bcd7f75f31eb>:104(<listcomp>)\n",
      "     3710    0.001    0.000    0.001    0.000 {method 'pop' of 'dict' objects}\n",
      "     3710    0.001    0.000    0.001    0.000 {built-in method builtins.len}\n",
      "     3160    0.001    0.000    0.001    0.000 {method 'add' of 'set' objects}\n",
      "        1    0.000    0.000    0.045    0.045 <ipython-input-250-32a23f3bb6f5>:4(split_symbols)\n",
      "       14    0.000    0.000    0.000    0.000 <ipython-input-249-bcd7f75f31eb>:26(restore_path_back)\n",
      "      413    0.000    0.000    0.000    0.000 {method 'append' of 'list' objects}\n",
      "       14    0.000    0.000    0.045    0.003 <ipython-input-249-bcd7f75f31eb>:6(shortest_path_to_bottom)\n",
      "       14    0.000    0.000    0.000    0.000 {built-in method numpy.core.multiarray.copyto}\n",
      "       14    0.000    0.000    0.000    0.000 {built-in method numpy.core.multiarray.empty_like}\n",
      "        1    0.000    0.000    0.000    0.000 {built-in method numpy.core.multiarray.array}\n",
      "        2    0.000    0.000    0.000    0.000 {built-in method builtins.compile}\n",
      "       14    0.000    0.000    0.000    0.000 numeric.py:307(full_like)\n",
      "        2    0.000    0.000    0.045    0.023 interactiveshell.py:2832(run_code)\n",
      "       15    0.000    0.000    0.000    0.000 {built-in method builtins.max}\n",
      "        1    0.000    0.000    0.045    0.045 <ipython-input-250-32a23f3bb6f5>:40(<module>)\n",
      "       14    0.000    0.000    0.000    0.000 <ipython-input-250-32a23f3bb6f5>:12(show_path)\n",
      "        2    0.000    0.000    0.000    0.000 codeop.py:132(__call__)\n",
      "        2    0.000    0.000    0.000    0.000 hooks.py:142(__call__)\n",
      "        1    0.000    0.000    0.000    0.000 <ipython-input-250-32a23f3bb6f5>:41(<module>)\n",
      "        2    0.000    0.000    0.000    0.000 ipstruct.py:125(__getattr__)\n",
      "        2    0.000    0.000    0.000    0.000 interactiveshell.py:1055(user_global_ns)\n",
      "        2    0.000    0.000    0.045    0.023 {built-in method builtins.exec}\n",
      "        1    0.000    0.000    0.000    0.000 {method 'disable' of '_lsprof.Profiler' objects}\n",
      "        2    0.000    0.000    0.000    0.000 hooks.py:207(pre_run_code_hook)\n",
      "\n",
      "\n"
     ]
    },
    {
     "data": {
      "text/plain": [
       "<matplotlib.image.AxesImage at 0x7f498ebd56d8>"
      ]
     },
     "execution_count": 250,
     "metadata": {},
     "output_type": "execute_result"
    }
   ],
   "source": [
    "import cProfile as profile\n",
    "import copy\n",
    "\n",
    "def split_symbols(plate, show=False):\n",
    "    height, width = plate.shape\n",
    "    paths = []\n",
    "\n",
    "    if show:\n",
    "        img = cv2.cvtColor(np.zeros_like(plate), cv2.COLOR_GRAY2RGB)\n",
    "        fill_value = np.array((255, 0, 0), dtype=img.dtype)\n",
    "    \n",
    "    def show_path(path):\n",
    "        if not show:\n",
    "            return\n",
    "        for point in path:\n",
    "            img[point] = fill_value\n",
    "        \n",
    "    min_symbol_size = max((plate.shape[0] // 2, 8))\n",
    "    step = min_symbol_size // 2\n",
    "    nstarts = width // step\n",
    "    \n",
    "    for start in range(nstarts):\n",
    "        start_x = start * step\n",
    "        path = shortest_path_to_bottom(plate, start_x, max((start_x-1.0*step, 0)), min((start_x+1.0*step-1, width-2)))\n",
    "        show_path(path)\n",
    "        paths.append(path)\n",
    "\n",
    "    if show:\n",
    "        plate_rgb = cv2.cvtColor(plate, cv2.COLOR_GRAY2RGB)\n",
    "        result_img = cv2.addWeighted(plate_rgb, 0.7, img, 1, 1)\n",
    "        return result_img\n",
    "    else:\n",
    "        return np.array(paths)\n",
    "\n",
    "plate = cv2.imread(\"/home/denis/D/plate_good.jpg\")\n",
    "plate = (skimage.exposure.equalize_hist(cv2.cvtColor(plate, cv2.COLOR_BGR2GRAY)) * 255).astype('uint8')\n",
    "    \n",
    "profiler = profile.Profile()\n",
    "profiler.enable()\n",
    "split_symbols(plate)\n",
    "profiler.disable()\n",
    "profiler.print_stats(sort='tottime')\n",
    "\n",
    "plt.imshow(split_symbols(plate, True))"
   ]
  },
  {
   "cell_type": "code",
   "execution_count": 251,
   "metadata": {},
   "outputs": [
    {
     "data": {
      "text/plain": [
       "<matplotlib.image.AxesImage at 0x7f498eb31908>"
      ]
     },
     "execution_count": 251,
     "metadata": {},
     "output_type": "execute_result"
    }
   ],
   "source": [
    "def symbol_rects(image, paths):\n",
    "    return np.unique([np.mean(list(map(lambda x: x[1], path[:(len(path)//2)]))) for path in paths]).astype(int)\n",
    "\n",
    "def draw_split_lines(image, split_points):\n",
    "    img = cv2.cvtColor(image, cv2.COLOR_GRAY2RGB)\n",
    "    for sp in split_points:\n",
    "        cv2.line(img, (sp, 0), (sp, height-1), (255, 0, 0))\n",
    "    return img\n",
    "\n",
    "paths = split_symbols(plate)\n",
    "split_points = symbol_rects(plate, paths)\n",
    "plt.imshow(draw_split_lines(plate, split_points), cmap='gray')"
   ]
  },
  {
   "cell_type": "code",
   "execution_count": 247,
   "metadata": {},
   "outputs": [],
   "source": [
    "num_columns = 5\n",
    "preview_plates = 50\n",
    "num_rows = preview_plates // num_columns\n",
    "plates = (plt.imread(path) for path in plates_paths[:preview_plates])\n",
    "\n",
    "fig, axes = plt.subplots(num_rows, num_columns, figsize=(16, num_rows//2))\n",
    "\n",
    "for y in range(num_rows):\n",
    "    for x in range(num_columns):\n",
    "        axes[y][x].axis(\"off\")\n",
    "        plate = (skimage.exposure.equalize_hist(cv2.cvtColor(next(plates), cv2.COLOR_BGR2GRAY)) * 255).astype('uint8')\n",
    "        paths = split_symbols(plate)\n",
    "        split_points = symbol_rects(plate, paths)\n",
    "        axes[y][x].imshow(draw_split_lines(plate, split_points), cmap='gray')"
   ]
  },
  {
   "cell_type": "code",
   "execution_count": 211,
   "metadata": {},
   "outputs": [
    {
     "data": {
      "text/plain": [
       "<matplotlib.animation.FuncAnimation at 0x7f498e162278>"
      ]
     },
     "execution_count": 211,
     "metadata": {},
     "output_type": "execute_result"
    }
   ],
   "source": [
    "height, width = plate.shape\n",
    "start_x = 20\n",
    "delta = 5\n",
    "\n",
    "shortest_path_to_bottom(plate, start_x, start_x-delta, start_x+delta, True, 40)"
   ]
  },
  {
   "cell_type": "code",
   "execution_count": 252,
   "metadata": {},
   "outputs": [
    {
     "name": "stdout",
     "output_type": "stream",
     "text": [
      "31.6 ms ± 202 µs per loop (mean ± std. dev. of 7 runs, 10 loops each)\n"
     ]
    }
   ],
   "source": [
    "%timeit(split_symbols(plate))"
   ]
  }
 ],
 "metadata": {
  "kernelspec": {
   "display_name": "Python 3",
   "language": "python",
   "name": "python3"
  },
  "language_info": {
   "codemirror_mode": {
    "name": "ipython",
    "version": 3
   },
   "file_extension": ".py",
   "mimetype": "text/x-python",
   "name": "python",
   "nbconvert_exporter": "python",
   "pygments_lexer": "ipython3",
   "version": "3.6.2"
  }
 },
 "nbformat": 4,
 "nbformat_minor": 2
}
